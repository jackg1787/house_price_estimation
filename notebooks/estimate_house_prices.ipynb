{
 "cells": [
  {
   "cell_type": "markdown",
   "id": "3b91786d",
   "metadata": {},
   "source": [
    "## Postcode price lookup\n",
    "\n",
    "Welcome to my work on estimating house prices. \n",
    "\n",
    "To run the class you will need two additional files:\n",
    "\n",
    "this is to convert between postcodes and local area codes\n",
    "https://opendata.camden.gov.uk/Maps/Postcodes-Local-Authorities-only-v01/g3bz-7ur8\n",
    "\n",
    "this is to relate local area codes to their house price inflation\n",
    "https://www.gov.uk/government/statistical-data-sets/uk-house-price-index-data-downloads-january-2022\n",
    "\n",
    "All files need to be in the same directory, which you can pass to the class using data_location\n",
    "\n",
    "the class works on these principles:\n",
    "\n",
    "if we have a direct match for a postcode, we should estimate the price using that\n",
    "if we do not, then we use the first 3 letters of the postcode (perhaps would be better to use a smaller area e.g postcode -1, postcode -2)\n",
    "\n",
    "If we can find that postcode in our house price index lookup, then we will also generate an inflation-adjusted estimate\n",
    "\n",
    "The second class inherits from this, and adds a function that can be used to adjust what is returned (i.e. if we want to apply some cut on the standard error, we want to limit the fields returned etc.)"
   ]
  },
  {
   "cell_type": "code",
   "execution_count": 13,
   "id": "14fb69ab",
   "metadata": {
    "ExecuteTime": {
     "end_time": "2022-06-23T11:24:48.944373Z",
     "start_time": "2022-06-23T11:24:48.906824Z"
    }
   },
   "outputs": [],
   "source": [
    "import os\n",
    "import pandas as pd\n",
    "from datetime import datetime\n",
    "import matplotlib.pyplot as plt\n",
    "import numpy as np\n",
    "\n",
    "\n",
    "class HousePriceEstimator(object):\n",
    "    \n",
    "    def __init__(self, data_location):\n",
    "        self.__NECESSARY_FILES__ = ['pp-2018.csv', \n",
    "                                    'pp-2019.csv', \n",
    "                                    'pp-2020.csv', \n",
    "                                    'Postcode districts.csv', \n",
    "                                    'UK-HPI-full-file-2022-01.csv',\n",
    "                                   'Postcodes___Local_Authorities_only_v01.csv']\n",
    "        self._data_location = data_location\n",
    "        self._house_prices, self._pc_dist, self._hpi_file, self.postcode_lookup = self._load_data()\n",
    "        self._enrich_data()\n",
    "    \n",
    "    def _load_data(self):\n",
    "        \"\"\"Load the data files needed for the lookup\"\"\"\n",
    "        \n",
    "        if len(set(self.__NECESSARY_FILES__) - set(os.listdir(self._data_location)))> 0:\n",
    "            raise ValueError('All Necessary files are not in data_location.')\n",
    "            \n",
    "        else:\n",
    "            _pp_2018 = pd.read_csv(os.path.join(self._data_location, 'pp-2018.csv'), header=None, usecols = [1,2,3])\n",
    "            _pp_2019 = pd.read_csv(os.path.join(self._data_location, 'pp-2019.csv'), header=None, usecols = [1,2,3])\n",
    "            _pp_2020 = pd.read_csv(os.path.join(self._data_location, 'pp-2020.csv'), header=None, usecols = [1,2,3])\n",
    "            \n",
    "            house_prices= _pp_2018.append(_pp_2019).append(_pp_2020)\n",
    "            \n",
    "            del _pp_2018, _pp_2019, _pp_2020\n",
    "        \n",
    "            _pc_dist = pd.read_csv(os.path.join(self._data_location, 'Postcode districts.csv'))\n",
    "            \n",
    "            # make the postcode to local authority code lookup\n",
    "            postcode_lookup = pd.read_csv(os.path.join(self._data_location, 'Postcodes___Local_Authorities_only_v01.csv'), usecols = ['Postcode 2', 'Local Authority Code'])\n",
    "            postcode_lookup['postcode_part1'] = postcode_lookup['Postcode 2'].str.split(' ').apply(lambda x: x[0])\n",
    "            postcode_lookup['Postcode 2'] = postcode_lookup['Postcode 2'].str.replace('  ', ' ')\n",
    "\n",
    "            # avg house prices per month file\n",
    "            hpi_file = pd.read_csv(os.path.join(self._data_location, 'UK-HPI-full-file-2022-01.csv'), usecols = ['Date', 'AreaCode', 'AveragePrice'])\n",
    "            hpi_file['Date'] = pd.to_datetime(hpi_file['Date'], format = '%d/%m/%Y').astype('datetime64[M]')\n",
    "            hpi_file = hpi_file.loc[(hpi_file['Date']>= '2018-01-01'),:].copy()\n",
    "\n",
    "            \n",
    "            return house_prices, _pc_dist, hpi_file, postcode_lookup\n",
    "    \n",
    "    def _enrich_data(self):\n",
    "        \"\"\"merge the two file types, tidy some columns\"\"\"\n",
    "        self._house_prices.columns = ['sale_price', 'sale_date', 'postcode']\n",
    "        self._house_prices['sale_date'] = pd.to_datetime(self._house_prices['sale_date'])\n",
    "            \n",
    "        self._house_prices['postcode_district'] = self._house_prices['postcode'].str.split(' ').apply(lambda x: x[0] if type(x) == list else x)\n",
    "            \n",
    "        self._house_prices = self._house_prices.merge(self._pc_dist[['Postcode',\n",
    "                                                'Postcodes',\n",
    "                                                'Active postcodes',\n",
    "                                                'Population',\n",
    "                                                'Households',\n",
    "                                                'Nearby districts']], left_on='postcode_district', right_on= 'Postcode', how='left')\n",
    "        \n",
    "        self._house_prices['sale_date_month'] = self._house_prices['sale_date'].astype('datetime64[M]')\n",
    "    \n",
    "    \n",
    "    def estimate_price(self, postcode, date = None, plotting=True):\n",
    "        \"\"\"function for the user to use to estimate a price\"\"\"\n",
    "        if type(postcode) is not str:\n",
    "            raise ValueError('provide string postcode')\n",
    "        if not ' ' in postcode:\n",
    "            raise ValueError('provide postcode with space formatting')\n",
    "        if len(postcode)< 6 or len(postcode) > 8:\n",
    "            raise ValueError('postcode is either too short or too long')\n",
    "        if not date:\n",
    "            date = datetime.today().strftime('%Y-%m-%d')\n",
    "        \n",
    "        # do we have exact match on that postcode?\n",
    "        sales = self._house_prices.loc[self._house_prices['postcode']== postcode, :].copy()\n",
    "        if sales.shape[0]>0:\n",
    "            aggregated_data = self._estimate_for_known_postcode(sales, postcode, plotting)\n",
    "        else:\n",
    "            aggregated_data = self.estimate_for_unknown_postcode(postcode, date, plotting)\n",
    "        return aggregated_data\n",
    "        \n",
    "        \n",
    "    def _estimate_for_known_postcode(self, sales, postcode, plotting):\n",
    "        \"\"\"function to estimate when we have exact match on postcode\"\"\"\n",
    "        sales.sort_values(by= 'sale_date', inplace=True)\n",
    "        aggregated_data = self._aggregate_postcode_data(sales, postcode, plotting)\n",
    "        return aggregated_data\n",
    "    \n",
    "    \n",
    "    def _aggregate_postcode_data(self,sales, postcode, plotting):\n",
    "        \"\"\"aggregate the data into a dict and send it back\"\"\"\n",
    "        \n",
    "        sales = self._apply_inflation(sales, postcode, date=None)\n",
    "        if plotting:\n",
    "            plt.figure(figsize=(15,10));\n",
    "            nbins = max(int(sales.shape[0]/10), 5)\n",
    "            sales['sale_price'].hist(bins= nbins);\n",
    "            plt.title('histogram of sale prices');\n",
    "            plt.show();\n",
    "            \n",
    "            plt.figure(figsize=(15,10));\n",
    "            plt.scatter(sales['sale_date'], sales['sale_price']);\n",
    "            plt.title('sale price vs sale date for postcode {}'.format(sales['postcode'].iloc[0]));\n",
    "            plt.show()\n",
    "        \n",
    "        if 'inflated_price' in sales.columns.to_list():\n",
    "            inflated_mean = sales['inflated_price'].mean()\n",
    "            inflated_std = sales['inflated_price'].std()\n",
    "            inflated_std_err_sale_price = sales['inflated_price'].std()/sales.shape[0]**0.5\n",
    "            inflated_std_err_frac = (sales['inflated_price'].std()/sales.shape[0]**0.5)/ sales['inflated_price'].mean()\n",
    "        else:\n",
    "            inflated_mean = np.nan\n",
    "            inflated_std = np.nan\n",
    "            inflated_std_err_sale_price = np.nan\n",
    "            inflated_std_err_frac = np.nan\n",
    "            \n",
    "        aggregated_data = {'most_recent_sale_price': sales.iloc[-1]['sale_price'],\n",
    "                           'most_recent_sale_price_date': sales.iloc[-1]['sale_date'],\n",
    "                           'mean_sale_price': sales['sale_price'].mean(), \n",
    "                           'std_sale_price': sales['sale_price'].std(),\n",
    "                           'std_err_sale_price': sales['sale_price'].std()/sales.shape[0]**0.5,\n",
    "                           'std_err_frac': (sales['sale_price'].std()/sales.shape[0]**0.5)/ sales['sale_price'].mean(),\n",
    "                           'inflated_std_err_sale_price': inflated_std_err_sale_price,\n",
    "                           'inflated_std_err_frac': inflated_std_err_frac,\n",
    "                           'n_sales': sales.shape[0], \n",
    "                           'mean_sale_price_inflation_adjusted': inflated_mean,\n",
    "                           'std_sale_price_infaltion_adjusted': inflated_std,\n",
    "                           'min_sale_price': sales['sale_price'].min(),\n",
    "                           'min_sale_price_date': sales.sort_values(by= 'sale_price').iloc[0]['sale_date'],\n",
    "                           'max_sale_price': sales['sale_price'].max(),\n",
    "                           'max_sale_price_date': sales.sort_values(by= 'sale_price', ascending=False).iloc[0]['sale_date'],\n",
    "                           #'mean_sale_price_2018': sales.loc[sales.sale_date<'2019-01-01','sale_price'].mean(),\n",
    "                           #'std_sale_price_2018': sales.loc[sales.sale_date<'2019-01-01','sale_price'].std(),\n",
    "                           #'mean_sale_price_2019': sales.loc[(sales.sale_date>='2019-01-01') & \n",
    "                           #                                  (sales.sale_date<='2020-01-01') ,'sale_price'].mean(),\n",
    "                           ##'std_sale_price_2019': sales.loc[(sales.sale_date>='2019-01-01') & \n",
    "                           #                                  (sales.sale_date<='2020-01-01') ,'sale_price'].std(),\n",
    "                           #'mean_sale_price_2020': sales.loc[(sales.sale_date>='2020-01-01') & \n",
    "                           #                                  (sales.sale_date<='2021-01-01') ,'sale_price'].mean(),\n",
    "                           #'std_sale_price_2020': sales.loc[(sales.sale_date>='2020-01-01') & \n",
    "                           #                                  (sales.sale_date<='2021-01-01') ,'sale_price'].std(),\n",
    "                          }\n",
    "        \n",
    "        return aggregated_data\n",
    "    \n",
    "    def estimate_for_unknown_postcode(self, postcode, date, plotting):\n",
    "        \"\"\" function to estimate when we have no exact matches\"\"\"\n",
    "        postcode_district = postcode.split(' ')[0]\n",
    "        \n",
    "        sales = self._house_prices.loc[self._house_prices['postcode_district']==postcode_district,:].copy()\n",
    "        \n",
    "        if sales.empty:\n",
    "            #just return no data here?\n",
    "            #do we also want to check for nearby postcode areas too?\n",
    "            # eg. close_postcodes = self._pc_dist.loc[self._pc_dist['Postcode']==postcode_district,'Nearby districts']\n",
    "            raise ValueError('Could not find any sales in that postcode district')\n",
    "        else:\n",
    "            sales.sort_values(by= 'sale_date', inplace=True)\n",
    "            aggregated_data = self._aggregate_postcode_data(sales, postcode, plotting)\n",
    "        return aggregated_data\n",
    "        \n",
    "    \n",
    "    def _apply_inflation(self, sales,postcode, date = None):\n",
    "        \"\"\"This function checks what the avg sale prices are like in the date we are \n",
    "        searching for (by default this will be the latest date we have info for)\n",
    "        \n",
    "        it uses that to estimate how much an historic \n",
    "        sale would have been if it had taken place in current date.\n",
    "        \n",
    "        \"\"\"        \n",
    "        area = self.postcode_lookup.loc[self.postcode_lookup['Postcode 2'] == postcode, 'Local Authority Code']\n",
    "        if area.empty:\n",
    "            print('warning: cannot match postcode to a local area')\n",
    "            return sales\n",
    "        else:\n",
    "            area = area.iloc[0]\n",
    "        prices = self._hpi_file.loc[self._hpi_file['AreaCode'] == area,:].copy()\n",
    "        if prices.empty:\n",
    "            print('WARNING: NO HISTORIC DATA FOUND FOR POSTCODE IN INFLATION FILE')\n",
    "            return sales\n",
    "        else:\n",
    "            #calculate %age change in prices\n",
    "            if date == None:\n",
    "                date = prices['Date'].max()\n",
    "            elif date > prices['Date'].max():\n",
    "                date = prices['Date'].max()\n",
    "            elif date < prices['Date'].min():\n",
    "                date = prices['Date'].min()\n",
    "            else:\n",
    "                pass\n",
    "            prices['current_avg'] = prices.loc[prices['Date']==date, 'AveragePrice'].values[0]\n",
    "            prices['inflation'] = (prices['current_avg'] - prices['AveragePrice'] )/ prices['AveragePrice']\n",
    "            sales = sales.merge(prices[['Date', 'inflation']], left_on = 'sale_date_month', right_on = 'Date', how = 'left')\n",
    "            sales['inflated_price'] = sales['sale_price'] + (sales['sale_price'] * sales['inflation'])\n",
    "            return sales\n",
    "        \n",
    "        \n",
    "        "
   ]
  },
  {
   "cell_type": "code",
   "execution_count": 14,
   "id": "262fd20c",
   "metadata": {
    "ExecuteTime": {
     "end_time": "2022-06-23T11:24:49.714436Z",
     "start_time": "2022-06-23T11:24:49.705475Z"
    }
   },
   "outputs": [],
   "source": [
    "class HousePriceReccomendation(HousePriceEstimator):\n",
    "    \n",
    "    def __init__(self, data_locaton, reccomendation_settings = {}):\n",
    "        super().__init__(data_locaton)\n",
    "        if 'uncertainty_cutoff' not in reccomendation_settings.keys():\n",
    "            reccomendation_settings['uncertainty_cutoff'] = 0.1 # if our standard error is 10% of our mean sale price or more then do not return\n",
    "        if 'return_fields' not in reccomendation_settings.keys():\n",
    "            reccomendation_settings['return_fields'] = ['most_recent_sale_price', 'most_recent_sale_price_date',\n",
    "                                                                                  'mean_sale_price',\n",
    "                                                                                  'std_sale_price',\n",
    "                                                        'mean_sale_price_inflation_adjusted',\n",
    "                                                        'std_sale_price_infaltion_adjusted',\n",
    "                                                                                  'std_err_frac',\n",
    "                                                                                  'n_sales', \n",
    "                                                                                  'min_sale_price', \n",
    "                                                                                  'max_sale_price']\n",
    "        self._reccomendation_settings = reccomendation_settings\n",
    "        \n",
    "    def get_recommendation(self,postcode,date= None, plotting=True):\n",
    "        results = self.estimate_price(postcode, date, plotting)\n",
    "        if 'uncertainty_cutoff' in self._reccomendation_settings.keys():\n",
    "            results_std_err = results['std_sale_price']/ results['n_sales']**0.5\n",
    "            results_std_err_pct = results_std_err/ results['mean_sale_price']\n",
    "            if results_std_err_pct > self._reccomendation_settings['uncertainty_cutoff']:\n",
    "                return {'Error': 'Uncertainty in price estimate too high to be quoted'\n",
    "                       }\n",
    "            else:\n",
    "                return {k:v for k,v in results.items() if k in self._reccomendation_settings['return_fields']}"
   ]
  },
  {
   "cell_type": "markdown",
   "id": "0f8eb018",
   "metadata": {},
   "source": [
    "## example of house price estimator"
   ]
  },
  {
   "cell_type": "code",
   "execution_count": 6,
   "id": "910ac3b2",
   "metadata": {
    "ExecuteTime": {
     "end_time": "2022-06-23T11:23:41.663102Z",
     "start_time": "2022-06-23T11:23:25.566933Z"
    },
    "scrolled": true
   },
   "outputs": [
    {
     "name": "stderr",
     "output_type": "stream",
     "text": [
      "/var/folders/6f/qt7yx3mj0cb712hd40l3ggnr0000gn/T/ipykernel_32046/2820493123.py:32: FutureWarning: The frame.append method is deprecated and will be removed from pandas in a future version. Use pandas.concat instead.\n",
      "  house_prices= _pp_2018.append(_pp_2019).append(_pp_2020)\n"
     ]
    }
   ],
   "source": [
    "hpe = HousePriceEstimator('../data')"
   ]
  },
  {
   "cell_type": "markdown",
   "id": "4f9b884b",
   "metadata": {},
   "source": [
    "### matched postcode"
   ]
  },
  {
   "cell_type": "code",
   "execution_count": 7,
   "id": "67d6bbe3",
   "metadata": {
    "ExecuteTime": {
     "end_time": "2022-06-23T11:23:42.941563Z",
     "start_time": "2022-06-23T11:23:41.666852Z"
    },
    "scrolled": true
   },
   "outputs": [
    {
     "data": {
      "image/png": "[encoded data removed]",
      "text/plain": [
       "<Figure size 1080x720 with 1 Axes>"
      ]
     },
     "metadata": {
      "needs_background": "light"
     },
     "output_type": "display_data"
    },
    {
     "data": {
      "image/png": "[encoded data removed]",
      "text/plain": [
       "<Figure size 1080x720 with 1 Axes>"
      ]
     },
     "metadata": {
      "needs_background": "light"
     },
     "output_type": "display_data"
    }
   ],
   "source": [
    "sales = hpe.estimate_price('SK7 1AR')"
   ]
  },
  {
   "cell_type": "code",
   "execution_count": 8,
   "id": "1a721154",
   "metadata": {
    "ExecuteTime": {
     "end_time": "2022-06-23T11:23:58.944195Z",
     "start_time": "2022-06-23T11:23:58.936396Z"
    }
   },
   "outputs": [
    {
     "data": {
      "text/plain": [
       "{'most_recent_sale_price': 581500,\n",
       " 'most_recent_sale_price_date': Timestamp('2018-11-27 00:00:00'),\n",
       " 'mean_sale_price': 667875.0,\n",
       " 'std_sale_price': 106792.92657599878,\n",
       " 'std_err_sale_price': 53396.46328799939,\n",
       " 'std_err_frac': 0.07994978594497382,\n",
       " 'inflated_std_err_sale_price': 67237.03114319129,\n",
       " 'inflated_std_err_frac': 0.0826305099447925,\n",
       " 'n_sales': 4,\n",
       " 'mean_sale_price_inflation_adjusted': 813707.0821433151,\n",
       " 'std_sale_price_infaltion_adjusted': 134474.06228638257,\n",
       " 'min_sale_price': 570000,\n",
       " 'min_sale_price_date': Timestamp('2018-07-27 00:00:00'),\n",
       " 'max_sale_price': 770000,\n",
       " 'max_sale_price_date': Timestamp('2018-09-25 00:00:00')}"
      ]
     },
     "execution_count": 8,
     "metadata": {},
     "output_type": "execute_result"
    }
   ],
   "source": [
    "sales"
   ]
  },
  {
   "cell_type": "markdown",
   "id": "c394f484",
   "metadata": {},
   "source": [
    "### unmatched postcode"
   ]
  },
  {
   "cell_type": "code",
   "execution_count": 9,
   "id": "bceee172",
   "metadata": {
    "ExecuteTime": {
     "end_time": "2022-06-23T11:24:03.137113Z",
     "start_time": "2022-06-23T11:24:01.576125Z"
    },
    "scrolled": true
   },
   "outputs": [
    {
     "data": {
      "image/png": "[encoded data removed]",
      "text/plain": [
       "<Figure size 1080x720 with 1 Axes>"
      ]
     },
     "metadata": {
      "needs_background": "light"
     },
     "output_type": "display_data"
    },
    {
     "data": {
      "image/png": "[encoded data removed]",
      "text/plain": [
       "<Figure size 1080x720 with 1 Axes>"
      ]
     },
     "metadata": {
      "needs_background": "light"
     },
     "output_type": "display_data"
    }
   ],
   "source": [
    "sales = hpe.estimate_price('EX2 9NH')"
   ]
  },
  {
   "cell_type": "code",
   "execution_count": 10,
   "id": "13c5953b",
   "metadata": {
    "ExecuteTime": {
     "end_time": "2022-06-23T11:24:03.177173Z",
     "start_time": "2022-06-23T11:24:03.150446Z"
    },
    "scrolled": false
   },
   "outputs": [
    {
     "data": {
      "text/plain": [
       "{'most_recent_sale_price': 275000,\n",
       " 'most_recent_sale_price_date': Timestamp('2020-03-09 00:00:00'),\n",
       " 'mean_sale_price': 339013.25633074937,\n",
       " 'std_sale_price': 479470.67826630484,\n",
       " 'std_err_sale_price': 10899.876283989615,\n",
       " 'std_err_frac': 0.03215177011649196,\n",
       " 'inflated_std_err_sale_price': 13120.817505028748,\n",
       " 'inflated_std_err_frac': 0.032098214910141185,\n",
       " 'n_sales': 1935,\n",
       " 'mean_sale_price_inflation_adjusted': 408770.9407442258,\n",
       " 'std_sale_price_infaltion_adjusted': 577166.8507637286,\n",
       " 'min_sale_price': 3500,\n",
       " 'min_sale_price_date': Timestamp('2019-11-18 00:00:00'),\n",
       " 'max_sale_price': 9300000,\n",
       " 'max_sale_price_date': Timestamp('2018-08-08 00:00:00')}"
      ]
     },
     "execution_count": 10,
     "metadata": {},
     "output_type": "execute_result"
    }
   ],
   "source": [
    "sales"
   ]
  },
  {
   "cell_type": "markdown",
   "id": "50edecb0",
   "metadata": {},
   "source": [
    "## example with the HousePriceReccomendation wrapper\n",
    "\n",
    "we use this subclass to set things like the fields we want returned from the base class, the uncertainty threshold\n",
    "\n",
    "would it be better to also set a max range for our 95% confidence interval? e.g. we only say a price if our range is < £50k?\n",
    "\n"
   ]
  },
  {
   "cell_type": "code",
   "execution_count": 15,
   "id": "271590c1",
   "metadata": {
    "ExecuteTime": {
     "end_time": "2022-06-23T11:25:14.757207Z",
     "start_time": "2022-06-23T11:24:55.761768Z"
    },
    "scrolled": true
   },
   "outputs": [
    {
     "name": "stderr",
     "output_type": "stream",
     "text": [
      "/var/folders/6f/qt7yx3mj0cb712hd40l3ggnr0000gn/T/ipykernel_32046/2820493123.py:32: FutureWarning: The frame.append method is deprecated and will be removed from pandas in a future version. Use pandas.concat instead.\n",
      "  house_prices= _pp_2018.append(_pp_2019).append(_pp_2020)\n"
     ]
    }
   ],
   "source": [
    "hpr = HousePriceReccomendation('../data', reccomendation_settings = {'uncertainty_cutoff': 0.05})"
   ]
  },
  {
   "cell_type": "markdown",
   "id": "db79345a",
   "metadata": {},
   "source": [
    "### falls below our uncertainty cutoff"
   ]
  },
  {
   "cell_type": "code",
   "execution_count": 19,
   "id": "258fffd0",
   "metadata": {
    "ExecuteTime": {
     "end_time": "2022-06-23T11:25:36.970731Z",
     "start_time": "2022-06-23T11:25:36.587353Z"
    },
    "scrolled": true
   },
   "outputs": [
    {
     "data": {
      "text/plain": [
       "{'Error': 'Uncertainty in price estimate too high to be quoted'}"
      ]
     },
     "execution_count": 19,
     "metadata": {},
     "output_type": "execute_result"
    }
   ],
   "source": [
    "hpr.get_recommendation('SK7 1AR', plotting=False)"
   ]
  },
  {
   "cell_type": "markdown",
   "id": "43d88d18",
   "metadata": {},
   "source": [
    "### does not fall below threshold"
   ]
  },
  {
   "cell_type": "code",
   "execution_count": 20,
   "id": "36828341",
   "metadata": {
    "ExecuteTime": {
     "end_time": "2022-06-23T11:25:45.449277Z",
     "start_time": "2022-06-23T11:25:44.791923Z"
    },
    "scrolled": true
   },
   "outputs": [],
   "source": [
    "res = hpr.get_recommendation('EX2 9NH', plotting=False)"
   ]
  },
  {
   "cell_type": "code",
   "execution_count": 21,
   "id": "3b2db2dc",
   "metadata": {
    "ExecuteTime": {
     "end_time": "2022-06-23T11:25:47.699607Z",
     "start_time": "2022-06-23T11:25:47.691036Z"
    }
   },
   "outputs": [
    {
     "data": {
      "text/plain": [
       "{'most_recent_sale_price': 275000,\n",
       " 'most_recent_sale_price_date': Timestamp('2020-03-09 00:00:00'),\n",
       " 'mean_sale_price': 339013.25633074937,\n",
       " 'std_sale_price': 479470.67826630484,\n",
       " 'std_err_frac': 0.03215177011649196,\n",
       " 'n_sales': 1935,\n",
       " 'mean_sale_price_inflation_adjusted': 408770.9407442258,\n",
       " 'std_sale_price_infaltion_adjusted': 577166.8507637286,\n",
       " 'min_sale_price': 3500,\n",
       " 'max_sale_price': 9300000}"
      ]
     },
     "execution_count": 21,
     "metadata": {},
     "output_type": "execute_result"
    }
   ],
   "source": [
    "res"
   ]
  },
  {
   "cell_type": "code",
   "execution_count": 26,
   "id": "4ade709a",
   "metadata": {
    "ExecuteTime": {
     "end_time": "2022-06-23T11:27:53.758953Z",
     "start_time": "2022-06-23T11:27:53.751466Z"
    }
   },
   "outputs": [
    {
     "name": "stdout",
     "output_type": "stream",
     "text": [
      " we can say with 95% certainty that the house will be priced between 317213.5 and 360813.01\n"
     ]
    }
   ],
   "source": [
    "lower_bound = res['mean_sale_price'] - 2*res['std_sale_price']/res['n_sales']**0.5\n",
    "upper_bound = res['mean_sale_price'] + 2*res['std_sale_price']/res['n_sales']**0.5\n",
    "\n",
    "print(' we can say with 95% certainty that the house \\\n",
    "will be priced between \\\n",
    "{} and {}'.format(round(lower_bound,2), round(upper_bound,2) ))\n",
    "\n",
    "\n",
    "\n"
   ]
  },
  {
   "cell_type": "code",
   "execution_count": 25,
   "id": "686b76b8",
   "metadata": {
    "ExecuteTime": {
     "end_time": "2022-06-23T11:27:38.446001Z",
     "start_time": "2022-06-23T11:27:38.438851Z"
    }
   },
   "outputs": [
    {
     "name": "stdout",
     "output_type": "stream",
     "text": [
      "Taking into account inflation, we can say with 95% certainty that the house will be priced between 382529.31 and 435012.58\n"
     ]
    }
   ],
   "source": [
    "lower_bound = res['mean_sale_price_inflation_adjusted'] - 2*res['std_sale_price_infaltion_adjusted']/res['n_sales']**0.5\n",
    "upper_bound = res['mean_sale_price_inflation_adjusted'] + 2*res['std_sale_price_infaltion_adjusted']/res['n_sales']**0.5\n",
    "\n",
    "print('Taking into account inflation, we can say with 95% certainty that the house \\\n",
    "will be priced between \\\n",
    "{} and {}'.format(round(lower_bound,2), round(upper_bound,2) ))\n"
   ]
  }
 ],
 "metadata": {
  "kernelspec": {
   "display_name": "titanic_venv",
   "language": "python",
   "name": "titanic_venv"
  },
  "language_info": {
   "codemirror_mode": {
    "name": "ipython",
    "version": 3
   },
   "file_extension": ".py",
   "mimetype": "text/x-python",
   "name": "python",
   "nbconvert_exporter": "python",
   "pygments_lexer": "ipython3",
   "version": "3.8.13"
  },
  "toc": {
   "base_numbering": 1,
   "nav_menu": {},
   "number_sections": true,
   "sideBar": true,
   "skip_h1_title": false,
   "title_cell": "Table of Contents",
   "title_sidebar": "Contents",
   "toc_cell": false,
   "toc_position": {},
   "toc_section_display": true,
   "toc_window_display": true
  }
 },
 "nbformat": 4,
 "nbformat_minor": 5
}
